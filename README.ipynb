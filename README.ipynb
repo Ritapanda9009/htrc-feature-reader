{
 "cells": [
  {
   "cell_type": "markdown",
   "metadata": {},
   "source": [
    "HTRC-Features [![Build Status](https://travis-ci.org/htrc/htrc-feature-reader.svg?branch=master)](https://travis-ci.org/htrc/htrc-feature-reader) [![PyPI version](https://badge.fury.io/py/htrc-feature-reader.svg)](https://badge.fury.io/py/htrc-feature-reader) [![Anaconda-Server Badge](https://anaconda.org/htrc/htrc-feature-reader/badges/installer/conda.svg)](https://anaconda.org/htrc/htrc-feature-reader)\n",
    "=============\n",
    "\n",
    "Tools for working with the [HTRC Extracted Features dataset](https://sharc.hathitrust.org/features), a dataset of page-level text features extracted from 13.7 million digitized works.\n",
    "\n",
    "This library provides a `FeatureReader` for parsing files, which are handled as `Volume` objects with collections of `Page` objects. Volumes provide access to metadata (e.g. language), volume-wide feature information (e.g. token counts), and access to Pages. Pages allow you to easily parse page-level features, particularly token lists.\n",
    "\n",
    "This library makes heavy use of [Pandas](pandas.pydata.org), returning many data representations as DataFrames. This is the leading way of dealing with structured data in Python, so this library doesn't try to reinvent the wheel. Since refactoring around Pandas, the primary benefit of using the HTRC Feature Reader is performance: reading the json structures and parsing them is generally faster than custom code. You also get convenient access to common information, such as case-folded token counts or part-of-page specific character counts. Details of the public methods provided by this library can be found in the [HTRC Feature Reader docs](http://htrc.github.io/htrc-feature-reader/htrc_features/feature_reader.m.html).\n",
    "\n",
    "**Table of Contents**: [Installation](#Installation) | [Usage](#Usage) | \n",
    "[Additional Notes](#Additional-Notes)\n",
    "\n",
    "**Links**: \n",
    "[HTRC Feature Reader Documentation](http://htrc.github.io/htrc-feature-reader/htrc_features/feature_reader.m.html) | [HTRC Extracted Features Dataset](https://sharc.hathitrust.org/features)\n",
    "\n",
    "**Citation**:\n",
    "Peter Organisciak and Boris Capitanu, \"Text Mining in Python through the HTRC Feature Reader,\" *Programming Historian*, (22 November 2016), http://programminghistorian.org/lessons/text-mining-with-extracted-features.\n",
    "\n",
    "\n",
    "## Installation\n",
    "\n",
    "To install,\n",
    "\n",
    "```bash\n",
    "    pip install htrc-feature-reader\n",
    "```\n",
    "\n",
    "That's it! This library is written for Python 2.7 and 3.0+. For Python beginners, you'll need [pip](https://pip.pypa.io/en/stable/installing/).\n",
    "\n",
    "Alternately, if you are using [Anaconda](https://www.continuum.io/downloads), you can install with\n",
    "\n",
    "```bash\n",
    "    conda install -c htrc htrc-feature-reader\n",
    "```\n",
    "\n",
    "The `conda` approach is recommended, because it makes sure that some of the hard-to-install dependencies are properly installed.\n",
    "\n",
    "Given the nature of data analysis, using iPython with Jupyter notebooks for preparing your scripts interactively is a recommended convenience. Most basically, it can be installed with `pip install ipython[notebook]` and run with `ipython notebook` from the command line, which starts a session that you can access through your browser. If this doesn't work, consult the [iPython documentation](http://ipython.readthedocs.org/).\n",
    "\n",
    "Optional: [installing the development version](#Installing-the-development-version). "
   ]
  },
  {
   "cell_type": "markdown",
   "metadata": {},
   "source": [
    "## Usage\n",
    "\n",
    "*Note: for new Python users, a more in-depth lesson is published by Programming Historian: [Text Mining in Python through the HTRC Feature Reader](http://programminghistorian.org/lessons/text-mining-with-extracted-features). That lesson is also the official citation associated the HTRC Feature Reader library.*\n",
    "\n",
    "### Reading feature files\n",
    "\n",
    "The easiest way to start using this library is to use the [FeatureReader](http://htrc.github.io/htrc-feature-reader/htrc_features/feature_reader.m.html#htrc_features.feature_reader.FeatureReader) interface, which takes a list to Extracted Features files."
   ]
  },
  {
   "cell_type": "code",
   "execution_count": 1,
   "metadata": {
    "collapsed": false
   },
   "outputs": [
    {
     "name": "stdout",
     "output_type": "stream",
     "text": [
      "hvd.32044010273894 - The ballet dancer, and On guard,\n",
      "hvd.hwquxe - The man from Glengarry : a tale of the Ottawa / by Ralph Connor.\n",
      "hvd.hwrevu - The lady with the dog, and other stories,\n",
      "hvd.hwrqs8 - Mr. Rutherford's children. By the authors of \"The wide, wide world,\" \"Queechy,\", \"Dollars and cents,\" etc., etc.\n",
      "mdp.39015028036104 - Russian short stories, ed. for school use,\n"
     ]
    }
   ],
   "source": [
    "import glob\n",
    "import pandas as pd\n",
    "from htrc_features import FeatureReader\n",
    "paths = glob.glob('data/PZ-volumes/*.json.bz2')\n",
    "# Here we're loading five paths, for brevity\n",
    "fr = FeatureReader(paths[:5])\n",
    "for vol in fr.volumes():\n",
    "    print(\"%s - %s\" % (vol.id, vol.title))"
   ]
  },
  {
   "cell_type": "markdown",
   "metadata": {},
   "source": [
    "Iterating on `FeatureReader` returns `Volume` objects. This is simply an easy way to access `feature_reader.volumes()`.\n",
    "Wherever possible, this library tries not to hold things in memory, so most of the time you want to iterate rather than casting to a list.\n",
    "In addition to memory issues, since each volume needs to be read from a file and initialized, it will be slow. \n",
    "_Woe to whomever tries `list(FeatureReader.volumes())`_.\n",
    "\n",
    "The method for creating a path list with 'glob' is just one way to do so.\n",
    "For large sets, it's better to just have a text file of your paths, and read it line by line."
   ]
  },
  {
   "cell_type": "markdown",
   "metadata": {},
   "source": [
    "In addition to iterating on `feature_reader.volumes()`, there is a convenient function to grab the first volume in a feature reader. This helps in testing code, and is what we'll do to continue this introduction:"
   ]
  },
  {
   "cell_type": "code",
   "execution_count": 2,
   "metadata": {
    "collapsed": false
   },
   "outputs": [
    {
     "data": {
      "text/plain": [
       "<htrc_features.feature_reader.Volume at 0x24d7b8b7390>"
      ]
     },
     "execution_count": 3,
     "metadata": {},
     "output_type": "execute_result"
    }
   ],
   "source": [
    "vol = fr.first()\n",
    "vol"
   ]
  },
  {
   "cell_type": "markdown",
   "metadata": {},
   "source": [
    "### Online downloading by volume id (new in v.1.90)\n",
    "\n",
    "The FeatureReader can also download files at read time, by reference to a HathiTrust volume id. For example, if I want [both of volumes of Pride and Prejudice](https://catalog.hathitrust.org/Record/100323335), I can see that the URLs are babel.hathitrust.org/cgi/pt?id=__hvd.32044013656053__ and babel.hathitrust.org/cgi/pt?id=__hvd.32044013656061__. In the FeatureReader, these can be called with the `ids=[]` argument, as follows:"
   ]
  },
  {
   "cell_type": "code",
   "execution_count": null,
   "metadata": {
    "collapsed": false
   },
   "outputs": [
    {
     "name": "stdout",
     "output_type": "stream",
     "text": [
      "Pride and prejudice.\n",
      "Pride and prejudice.\n"
     ]
    }
   ],
   "source": [
    "fr = FeatureReader(ids=[\"hvd.32044013656053\", \"hvd.32044013656061\"])\n",
    "\n",
    "for vol in fr:\n",
    "    print(vol.title)"
   ]
  },
  {
   "cell_type": "markdown",
   "metadata": {},
   "source": [
    "This downloads the file temporarily, using the HTRC's web-based download link (e.g. https://data.analytics.hathitrust.org/features/get?download-id={{URL}}). One good pairing with this feature is the [HTRC Python SDK](https://github.com/htrc/HTRC-PythonSDK)'s functionality for downloading collections. \n",
    "\n",
    "For example, I have a small collection of knitting-related books at https://babel.hathitrust.org/cgi/mb?a=listis&c=1174943610. To read the feature files for those books:"
   ]
  },
  {
   "cell_type": "code",
   "execution_count": null,
   "metadata": {
    "collapsed": false
   },
   "outputs": [
    {
     "data": {
      "text/plain": [
       "'A good yarn / Debbie Macomber.'"
      ]
     },
     "execution_count": 10,
     "metadata": {},
     "output_type": "execute_result"
    }
   ],
   "source": [
    "from htrc import workset\n",
    "volids = workset.load_hathitrust_collection('https://babel.hathitrust.org/cgi/mb?a=listis&c=1174943610')\n",
    "FeatureReader(ids=volids).first().title"
   ]
  },
  {
   "cell_type": "markdown",
   "metadata": {},
   "source": [
    "Remember that for large jobs, it is faster to download your dataset beforehand, using the `rsync` method."
   ]
  },
  {
   "cell_type": "markdown",
   "metadata": {},
   "source": [
    "### Volume\n",
    "\n",
    "A [Volume](http://htrc.github.io/htrc-feature-reader/htrc_features/feature_reader.m.html#htrc_features.feature_reader.Volume) contains information about the current work and access to the pages of the work. All the metadata fields from the HTRC JSON file are accessible as properties of the volume object, including _title_, _language_, _imprint_, _oclc_, _pubDate_, and _genre_. The main identifier _id_ and _pageCount_ are also accessible, and you can find the URL for the Full View of the text in the HathiTrust Digital Library - if it exists - with `vol.handle_url`."
   ]
  },
  {
   "cell_type": "code",
   "execution_count": 3,
   "metadata": {
    "collapsed": false
   },
   "outputs": [
    {
     "data": {
      "text/plain": [
       "'Volume hvd.32044010273894 is a 284 page text written in eng. You can doublecheck at http://hdl.handle.net/2027/hvd.32044010273894'"
      ]
     },
     "execution_count": 3,
     "metadata": {},
     "output_type": "execute_result"
    }
   ],
   "source": [
    "\"Volume %s is a %s page text written in %s. You can doublecheck at %s\" % (vol.id, vol.page_count,\n",
    "                                                                          vol.language, vol.handle_url)"
   ]
  },
  {
   "cell_type": "markdown",
   "metadata": {},
   "source": [
    "As a convenience, `Volume.year` returns `Volume.pub_date`:"
   ]
  },
  {
   "cell_type": "code",
   "execution_count": 4,
   "metadata": {
    "collapsed": false
   },
   "outputs": [
    {
     "data": {
      "text/plain": [
       "'1901 == 1901'"
      ]
     },
     "execution_count": 4,
     "metadata": {},
     "output_type": "execute_result"
    }
   ],
   "source": [
    "\"%s == %s\" % (vol.pub_date, vol.year)"
   ]
  },
  {
   "cell_type": "markdown",
   "metadata": {},
   "source": [
    "`Volume` objects have an page genrator method for pages, through `Volume.pages()`. Iterating through pages using this generator only keeps one page at a time in memory, and again it is preferable to reading all the pages into the list at once. Unlike volumes, your computer can probably hold all the pages of a single volume in memory, so it is not dire if you try to read them into a list.\n",
    "\n",
    "Like with the `FeatureReader`, you can also access the page generator by iterating directly on the object (i.e. `for page in vol`). Python beginners may find that using `vol.pages()` is more clear as to what is happening."
   ]
  },
  {
   "cell_type": "code",
   "execution_count": 5,
   "metadata": {
    "collapsed": false,
    "scrolled": true
   },
   "outputs": [
    {
     "name": "stdout",
     "output_type": "stream",
     "text": [
      "<page 00000016 of volume hvd.32044010273894>\n"
     ]
    }
   ],
   "source": [
    "# Let's skip ahead some pages\n",
    "i = 0\n",
    "for page in vol:\n",
    "    # Same as `for page in vol.pages()`\n",
    "    i += 1\n",
    "    if i >= 16:\n",
    "        break\n",
    "print(page)"
   ]
  },
  {
   "cell_type": "markdown",
   "metadata": {},
   "source": [
    "If you want to pass arguments to page initialization, such as changing the page's default section from 'body' to 'group' (which returns header+footer+body), it can be done with `for page in vol.pages(default_section='group')`.\n",
    "     \n",
    "Finally, if the minimal metadata included with the extracted feature files is insufficient, you can fetch HT's metadata record from the Bib API with `vol.metadata`.\n",
    "Remember that this calls the HTRC servers for each volume, so can add considerable overhead. The result is a MARC file, returns as a [pymarc](https://github.com/edsu/pymarc) record object. For example, to get the publisher information from field `260`:"
   ]
  },
  {
   "cell_type": "code",
   "execution_count": 7,
   "metadata": {
    "collapsed": false,
    "scrolled": true
   },
   "outputs": [
    {
     "ename": "KeyError",
     "evalue": "'published'",
     "output_type": "error",
     "traceback": [
      "\u001b[1;31m---------------------------------------------------------------------------\u001b[0m",
      "\u001b[1;31mKeyError\u001b[0m                                  Traceback (most recent call last)",
      "\u001b[1;32m<ipython-input-7-8bc5f5c0f945>\u001b[0m in \u001b[0;36m<module>\u001b[1;34m()\u001b[0m\n\u001b[0;32m      1\u001b[0m \u001b[1;32mfor\u001b[0m \u001b[0mvol\u001b[0m \u001b[1;32min\u001b[0m \u001b[0mfr\u001b[0m\u001b[1;33m.\u001b[0m\u001b[0mvolumes\u001b[0m\u001b[1;33m(\u001b[0m\u001b[1;33m)\u001b[0m\u001b[1;33m:\u001b[0m\u001b[1;33m\u001b[0m\u001b[0m\n\u001b[1;32m----> 2\u001b[1;33m     \u001b[0mprint\u001b[0m\u001b[1;33m(\u001b[0m\u001b[0mvol\u001b[0m\u001b[1;33m.\u001b[0m\u001b[0mmetadata\u001b[0m\u001b[1;33m[\u001b[0m\u001b[1;34m'published'\u001b[0m\u001b[1;33m]\u001b[0m\u001b[1;33m[\u001b[0m\u001b[1;36m0\u001b[0m\u001b[1;33m]\u001b[0m\u001b[1;33m)\u001b[0m\u001b[1;33m\u001b[0m\u001b[0m\n\u001b[0m",
      "\u001b[1;31mKeyError\u001b[0m: 'published'"
     ]
    }
   ],
   "source": [
    "for vol in fr.volumes():\n",
    "    print(vol.metadata['260'].value())"
   ]
  },
  {
   "cell_type": "code",
   "execution_count": null,
   "metadata": {
    "collapsed": false
   },
   "outputs": [
    {
     "name": "stdout",
     "output_type": "stream",
     "text": [
      "METADATA FIELDS: _version_, htrc_charCount, title, htrc_volumePageCountBin, publishDate, title_a, mainauthor, author_only, oclc, authorSort, country_of_pub, author, htrc_gender, language, ht_id, publisher, author_top, publishDateRange, htrc_pageCount, title_top, callnosort, publication_place, topic, htsource, htrc_wordCount, title_ab, callnumber, fullrecord, htrc_volumeWordCountBin, format, lccn, genre, htrc_genderMale, topic_subject, topicStr, geographic, published, sdrnum, id\n"
     ]
    }
   ],
   "source": [
    "print(\"METADATA FIELDS: \" + \", \".join(vol.metadata.keys()))"
   ]
  },
  {
   "cell_type": "markdown",
   "metadata": {},
   "source": [
    "_At large-scales, using `vol.metadata` is an impolite and inefficient amount of server pinging; there are better ways to query the API than one volume at a time. Read about the [HTRC Solr Proxy](https://wiki.htrc.illinois.edu/display/COM/Solr+Proxy+API+User+Guide)._\n",
    "\n",
    "Another source of bibliographic metadata is the HathiTrust Bib API. You can access this information through the URL returned with `vol.ht_bib_url`:"
   ]
  },
  {
   "cell_type": "code",
   "execution_count": null,
   "metadata": {
    "collapsed": false
   },
   "outputs": [
    {
     "data": {
      "text/plain": [
       "'http://catalog.hathitrust.org/api/volumes/full/htid/mdp.39015028036104.json'"
      ]
     },
     "execution_count": 8,
     "metadata": {},
     "output_type": "execute_result"
    }
   ],
   "source": [
    "vol.ht_bib_url"
   ]
  },
  {
   "cell_type": "markdown",
   "metadata": {},
   "source": [
    "Volumes also have direct access to volume-wide info of features stored in pages. For example, you can get a list of words per page through [Volume.tokens_per_page()](http://htrc.github.io/htrc-feature-reader/htrc_features/feature_reader.m.html#htrc_features.feature_reader.Volume.tokens_per_page). We'll discuss these features [below](#Volume-stats-collecting), after looking first at Pages."
   ]
  },
  {
   "cell_type": "markdown",
   "metadata": {},
   "source": [
    "## Pages\n",
    "\n",
    "A page contains the meat of the HTRC's extracted features, including information for:\n",
    "\n",
    "- Part of speech tagged token counts, through `Page.tokenlist()`\n",
    "- Counts of the characters occurred at the start and end of physical lines, though `Page.lineCounts()`\n",
    "- Sentence counts, line counts (referring to the physical line on the page)\n",
    "- And more, seen in the docs for [Page](http://htrc.github.io/htrc-feature-reader/htrc_features/feature_reader.m.html#htrc_features.feature_reader.Page)"
   ]
  },
  {
   "cell_type": "code",
   "execution_count": null,
   "metadata": {
    "collapsed": false
   },
   "outputs": [
    {
     "name": "stdout",
     "output_type": "stream",
     "text": [
      "The body has 30 lines, 0 empty lines, and 9 sentences\n"
     ]
    }
   ],
   "source": [
    "print(\"The body has %s lines, %s empty lines, and %s sentences\" % (page.line_count(),\n",
    "                                                                   page.empty_line_count(),\n",
    "                                                                   page.sentence_count()))"
   ]
  },
  {
   "cell_type": "markdown",
   "metadata": {},
   "source": [
    "Since the HTRC provides information by header/body/footer, most methods take a `section=` argument. If not specified, this defaults to `\"body\"`, or whatever argument is supplied to `Page.default_section`."
   ]
  },
  {
   "cell_type": "code",
   "execution_count": null,
   "metadata": {
    "collapsed": false
   },
   "outputs": [
    {
     "name": "stdout",
     "output_type": "stream",
     "text": [
      "294 tokens in the default section, body\n",
      "3 tokens in the header\n",
      "0 tokens in the footer\n"
     ]
    }
   ],
   "source": [
    "print(\"%s tokens in the default section, %s\" % (page.token_count(), page.default_section))\n",
    "print(\"%s tokens in the header\" % (page.token_count(section='header')))\n",
    "print(\"%s tokens in the footer\" % (page.token_count(section='footer')))"
   ]
  },
  {
   "cell_type": "markdown",
   "metadata": {},
   "source": [
    "There are also two special arguments that can be given to `section`: `\"all\"` and \"`group`\". 'all' returns information for each section separately, when appropriate, while 'group' returns information for all header, body, and footer combined."
   ]
  },
  {
   "cell_type": "code",
   "execution_count": null,
   "metadata": {
    "collapsed": false
   },
   "outputs": [
    {
     "name": "stdout",
     "output_type": "stream",
     "text": [
      "297 tokens on the full page\n"
     ]
    }
   ],
   "source": [
    "print(\"%s tokens on the full page\" % (page.token_count(section='group')))\n",
    "assert(page.token_count(section='group') == (page.token_count(section='header') +\n",
    "                                             page.token_count(section='body') + \n",
    "                                             page.token_count(section='footer')))"
   ]
  },
  {
   "cell_type": "markdown",
   "metadata": {},
   "source": [
    "Note that for the most part, the properties of the `Page` and `Volume` objects aligns with the names in the HTRC Extracted Features schema, except they are converted to follow [Python naming conventions](https://google.github.io/styleguide/pyguide.html?showone=Naming#Naming): converting the `CamelCase` of the schema to `lowercase_with_underscores`. E.g. `beginLineChars` from the HTRC data is accessible as `Page.begin_line_chars`.\n",
    "\n",
    "## The fun stuff: playing with token counts and character counts\n",
    "\n",
    "Token counts are returned by `Page.tokenlist()`. By default, part-of-speech tagged, case-sensitive counts are returned for the body.\n",
    "\n",
    "The token count information is returned as a DataFrame with a MultiIndex (page, section, token, and part of speech) and one column (count)."
   ]
  },
  {
   "cell_type": "code",
   "execution_count": null,
   "metadata": {
    "collapsed": false
   },
   "outputs": [
    {
     "name": "stdout",
     "output_type": "stream",
     "text": [
      "                           count\n",
      "page section token    pos       \n",
      "16   body    !        .        1\n",
      "             '        ''       1\n",
      "             'Flowers NNS      1\n"
     ]
    }
   ],
   "source": [
    "print(page.tokenlist()[:3])"
   ]
  },
  {
   "cell_type": "markdown",
   "metadata": {},
   "source": [
    "`Page.tokenlist()` can be manipulated in various ways. You can case-fold, for example:"
   ]
  },
  {
   "cell_type": "code",
   "execution_count": null,
   "metadata": {
    "collapsed": false
   },
   "outputs": [
    {
     "name": "stdout",
     "output_type": "stream",
     "text": [
      "                            count\n",
      "page section lowercase pos       \n",
      "16   body    ancient   JJ       1\n",
      "             and       CC      12\n",
      "             any       DT       1\n"
     ]
    }
   ],
   "source": [
    "df = page.tokenlist(case=False)\n",
    "print(df[15:18])"
   ]
  },
  {
   "cell_type": "markdown",
   "metadata": {},
   "source": [
    "Or, you can combine part of speech counts into a single integer."
   ]
  },
  {
   "cell_type": "code",
   "execution_count": null,
   "metadata": {
    "collapsed": false,
    "scrolled": true
   },
   "outputs": [
    {
     "name": "stdout",
     "output_type": "stream",
     "text": [
      "                       count\n",
      "page section token          \n",
      "16   body    Naples        1\n",
      "             November      1\n",
      "             October       1\n"
     ]
    }
   ],
   "source": [
    "df = page.tokenlist(pos=False)\n",
    "print(df[15:18])"
   ]
  },
  {
   "cell_type": "markdown",
   "metadata": {},
   "source": [
    "Section arguments are valid here: 'header', 'body', 'footer', 'all', and 'group'"
   ]
  },
  {
   "cell_type": "code",
   "execution_count": null,
   "metadata": {
    "collapsed": false,
    "scrolled": true
   },
   "outputs": [
    {
     "name": "stdout",
     "output_type": "stream",
     "text": [
      "                        count\n",
      "page section lowercase       \n",
      "16   header  ballet         1\n",
      "             dancer         1\n",
      "             the            1\n"
     ]
    }
   ],
   "source": [
    "df = page.tokenlist(section=\"header\", case=False, pos=False)\n",
    "print(df)"
   ]
  },
  {
   "cell_type": "markdown",
   "metadata": {},
   "source": [
    "The MultiIndex makes it easy to slice the results, and it is althogether more memory-efficient. If you are new to Pandas DataFrames, you might find it easier to learn by converting the index to columns."
   ]
  },
  {
   "cell_type": "code",
   "execution_count": null,
   "metadata": {
    "collapsed": false,
    "scrolled": true
   },
   "outputs": [
    {
     "name": "stdout",
     "output_type": "stream",
     "text": [
      "                               count\n",
      "page section token        pos       \n",
      "16   body    benefactress NN       1\n",
      "             bitterness   NN       1\n",
      "             case         NN       1\n",
      "With index reset: \n",
      "   page section         token pos  count\n",
      "0    16    body  benefactress  NN      1\n",
      "1    16    body    bitterness  NN      1\n"
     ]
    }
   ],
   "source": [
    "df = page.tokenlist()\n",
    "# Slicing on Multiindex: get all Signular or Mass Nouns (NN)\n",
    "idx = pd.IndexSlice\n",
    "nouns = df.loc[idx[:,:,:,'NN'],]\n",
    "print(nouns[:3])\n",
    "print(\"With index reset: \")\n",
    "print(nouns.reset_index()[:2])"
   ]
  },
  {
   "cell_type": "markdown",
   "metadata": {},
   "source": [
    "If you prefer not to use Pandas, you can always convert the object, with methods like `to_dict` and `to_csv`)."
   ]
  },
  {
   "cell_type": "code",
   "execution_count": null,
   "metadata": {
    "collapsed": false,
    "scrolled": true
   },
   "outputs": [
    {
     "data": {
      "text/plain": [
       "{'count': {(16, 'body', '!', '.'): 1,\n",
       "  (16, 'body', \"'\", \"''\"): 1,\n",
       "  (16, 'body', \"'Flowers\", 'NNS'): 1}}"
      ]
     },
     "execution_count": 17,
     "metadata": {},
     "output_type": "execute_result"
    }
   ],
   "source": [
    "df[:3].to_dict()"
   ]
  },
  {
   "cell_type": "markdown",
   "metadata": {},
   "source": [
    "To get just the unique tokens, `Page.tokens` provides them as a list."
   ]
  },
  {
   "cell_type": "code",
   "execution_count": null,
   "metadata": {
    "collapsed": false
   },
   "outputs": [
    {
     "data": {
      "text/plain": [
       "['!', \"'\", \"'Flowers\", \"'s\", ',', '.', '6']"
      ]
     },
     "execution_count": 18,
     "metadata": {},
     "output_type": "execute_result"
    }
   ],
   "source": [
    "page.tokens()[:7]"
   ]
  },
  {
   "cell_type": "markdown",
   "metadata": {},
   "source": [
    "In addition to token lists, you can also access `Page.begin_line_chars` and `Section.end_line_chars`, which are DataFrames of character counts that occur at the start or end of a line."
   ]
  },
  {
   "cell_type": "markdown",
   "metadata": {},
   "source": [
    "### Volume stats collecting\n",
    "\n",
    "The Volume object has a number of methods for collecting information from all its pages.\n",
    "\n",
    "`Volume.tokenlist()` works identically the page tokenlist method, except it returns information for the full volume:"
   ]
  },
  {
   "cell_type": "code",
   "execution_count": null,
   "metadata": {
    "collapsed": false,
    "scrolled": true
   },
   "outputs": [
    {
     "name": "stdout",
     "output_type": "stream",
     "text": [
      "                        count\n",
      "page section lowercase       \n",
      "38   body    she            1\n",
      "39   body    she            1\n",
      "42   body    she            1\n"
     ]
    }
   ],
   "source": [
    "# Print case-insensitive occurrances of the word `she`\n",
    "all_vol_token_counts = vol.tokenlist(pos=False, case=False)\n",
    "print(all_vol_token_counts.loc[idx[:,'body', 'she'],][:3])"
   ]
  },
  {
   "cell_type": "markdown",
   "metadata": {},
   "source": [
    "Note that a Volume-wide tokenlist is not crunched until you need it, then it will stay cached in case you need it. If you try to access `Page.tokenlist()` _after_ accessing `Volume.tokenlist()`, the Page object will return that page from the Volume's cached representation, rather than preparing it itself.\n",
    "\n",
    "`Volume.tokens()`, and `Volume.tokens_per_page()` give easy access to the full vocabulary of the volume, and the token counts per page."
   ]
  },
  {
   "cell_type": "code",
   "execution_count": null,
   "metadata": {
    "collapsed": false
   },
   "outputs": [
    {
     "data": {
      "text/plain": [
       "['\"', '.', ':', 'Fred', 'Newton', 'Scott', 'gift', 'i', 'ii', 'iiiiISI']"
      ]
     },
     "execution_count": 20,
     "metadata": {},
     "output_type": "execute_result"
    }
   ],
   "source": [
    "vol.tokens()[:10]"
   ]
  },
  {
   "cell_type": "markdown",
   "metadata": {},
   "source": [
    "If you prefer a DataFrame structured like a term-document matrix (where pages are the 'documents'), `vol.term_page_freqs()` will return it.\n",
    "\n",
    "By default, this returns a page-frequency rather than term-frequency, which is to say it counts `1` when a term occurs on a page, regardless of how much it occurs on that page. For a term frequency, pass `page_freq=False`."
   ]
  },
  {
   "cell_type": "code",
   "execution_count": null,
   "metadata": {
    "collapsed": false,
    "scrolled": true
   },
   "outputs": [
    {
     "name": "stdout",
     "output_type": "stream",
     "text": [
      "token  the  and   is   he  she\n",
      "page                          \n",
      "10     0.0  1.0  0.0  0.0  0.0\n",
      "11     1.0  1.0  1.0  0.0  0.0\n",
      "token   the  and   is   he  she\n",
      "page                           \n",
      "10      0.0  1.0  0.0  0.0  0.0\n",
      "11     22.0  7.0  4.0  0.0  0.0\n"
     ]
    }
   ],
   "source": [
    "a = vol.term_page_freqs()\n",
    "print(a.loc[10:11,['the','and','is','he', 'she']])\n",
    "a = vol.term_page_freqs(page_freq=False)\n",
    "print(a.loc[10:11,['the','and','is', 'he', 'she']])"
   ]
  },
  {
   "cell_type": "code",
   "execution_count": null,
   "metadata": {
    "collapsed": true
   },
   "outputs": [],
   "source": [
    "data/da"
   ]
  },
  {
   "cell_type": "markdown",
   "metadata": {},
   "source": [
    "Volume.term_page_freqs provides a wide DataFrame resembling a matrix, where terms are listed as columns, pages are listed as rows, and the values correspond to the term frequency (or page page frequency with `page_freq=true`).\n",
    "Volume.term_volume_freqs() simply sums these.\n",
    " \n",
    "### Multiprocessing\n",
    "\n",
    "For large jobs, you'll want to use multiprocessing or multithreading to speed up your process. This is left up to your preferred method, either within Python or by spawning multiple scripts from the command line. Here are two approaches that I like.\n",
    "\n",
    "#### Dask\n",
    "\n",
    "Dask offers easy multithreading (shared resources) and multiprocessing (separate processes) in Python, and is particularly convenient because it includes a subset of Pandas DataFrames.\n",
    "\n",
    "Here is a minimal example, that lazily loads token frequencies from a list of volume IDs, and counts them up by part of speech tag.\n",
    "\n",
    "```python\n",
    "import dask.dataframe as dd\n",
    "from dask import delayed\n",
    "\n",
    "def get_tokenlist(vol):\n",
    "    ''' Load a one volume feature reader, get that volume, and return its tokenlist '''\n",
    "    return FeatureReader(ids=[volid]).first().tokenlist()\n",
    "\n",
    "delayed_dfs = [delayed(get_tokenlist)(volid) for volid in volids]\n",
    "\n",
    "# Create a dask\n",
    "ddf = (dd.from_delayed(delayed_dfs)\n",
    "         .reset_index()\n",
    "         .groupby('pos')[['count']]\n",
    "         .sum()\n",
    "      )\n",
    "\n",
    "# Run processing\n",
    "ddf.compute()\n",
    "```\n",
    "\n",
    "Here is an example of 78 volumes being processed in 24 seconds with 31 threads:\n",
    "\n",
    "![Counting POS in 78 books about knitting](data/dask-progress.png)\n",
    "\n",
    "This example used multithreading. Due to the nature of Python, certain functions won't parallelize well. In our case, the part where the JSON is read from the file and converted to a DataFrame (the light green parts of the graphic) won't speed up because Python dicts lock the Global Interpreter Lock (GIL). However, because Pandas releases the GIL, nearly everything you do after parsing the JSON will be very quick.\n",
    "\n",
    "To better understand what happens when `ddf.compute()`, here is a graph for 4 volumes:\n",
    "\n",
    "![](data/dask-graph.png)\n",
    "\n",
    "\n",
    "#### GNU Parallel\n",
    "As an alternative to multiprocessing in Python, my preference is to have simpler Python scripts and to use GNU Parallel on the command line. To do this, you can set up your Python script to take variable length arguments of feature file paths, and to print to stdout.\n",
    "\n",
    "This psuedo-code shows how that you'd use parallel, where the number of parallel processes is 90% the number of cores, and 50 paths are sent to the script at a time (if you send too little at a time, the initialization time of the script can add up).\n",
    "\n",
    "```bash\n",
    "find feature-files/ -name '*json.bz2' | parallel --eta --jobs 90% -n 50 python your_script.py >output.txt\n",
    "```"
   ]
  },
  {
   "cell_type": "markdown",
   "metadata": {},
   "source": [
    "## Additional Notes\n",
    "\n",
    "### Installing the development version\n",
    "\n",
    "    git clone https://github.com/htrc/htrc-feature-reader.git\n",
    "    cd htrc-feature-reader\n",
    "    python setup.py install\n",
    "\n",
    "### Iterating through the JSON files\n",
    "\n",
    "If you need to do fast, highly customized processing without instantiating Volumes, FeatureReader has a convenient generator for getting the raw JSON as a Python dict: `fr.jsons()`. This simply does the file reading, optional decompression, and JSON parsing.\n",
    "\n",
    "### Downloading files within the library\n",
    "\n",
    "`utils` includes an Rsyncing utility, `download_file`. This requires Rsync to be installed on your system.\n",
    "\n",
    "**Usage:**\n",
    "\n",
    "Download one file to the current directory:\n",
    "    \n",
    "```\n",
    "utils.download_file(htids='nyp.33433042068894')\n",
    "```\n",
    "\n",
    "Download multiple files to the current directory:\n",
    "\n",
    "```\n",
    "ids = ['nyp.33433042068894', 'nyp.33433074943592', 'nyp.33433074943600']\n",
    "utils.download_file(htids=ids)\n",
    "```\n",
    "\n",
    "Download file to `/tmp`:\n",
    "```\n",
    "utils.download_file(htids='nyp.33433042068894', outdir='/tmp')\n",
    "```\n",
    "\n",
    "Download file to current directory, keeping pairtree directory structure,\n",
    "i.e. `./nyp/pairtree_root/33/43/30/42/06/88/94/33433042068894/nyp.33433042068894.json.bz2`:\n",
    "\n",
    "```\n",
    "utils.download_file(htids='nyp.33433042068894', keep_dirs=True)\n",
    "    ```\n",
    "\n",
    "### Getting the Rsync URL\n",
    "\n",
    "If you have a HathiTrust Volume ID and want to be able to download the features for a specific book, `hrtc_features.utils` contains an [id_to_rsync](http://htrc.github.io/htrc-feature-reader/htrc_features/utils.m.html#htrc_features.utils.id_to_rsync) function. This uses the [pairtree](http://pythonhosted.org/Pairtree/) library but has a fallback written with that library is not installed, since it isn't compatible with Python 3."
   ]
  },
  {
   "cell_type": "code",
   "execution_count": null,
   "metadata": {
    "collapsed": false
   },
   "outputs": [
    {
     "data": {
      "text/plain": [
       "'miun/pairtree_root/ad/x6/30/0,/00/01/,0/01/adx6300,0001,001/miun.adx6300,0001,001.json.bz2'"
      ]
     },
     "execution_count": 1,
     "metadata": {},
     "output_type": "execute_result"
    }
   ],
   "source": [
    "from htrc_features import utils\n",
    "utils.id_to_rsync('miun.adx6300.0001.001')"
   ]
  },
  {
   "cell_type": "markdown",
   "metadata": {},
   "source": [
    "See the [ID to Rsync notebook](examples/ID_to_Rsync_Link.ipynb) for more information on this format and on Rsyncing lists of urls.\n",
    "\n",
    "There is also a command line utility installed with the HTRC Feature Reader:\n",
    "\n",
    "```bash\n",
    "$ htid2rsync miun.adx6300.0001.001\n",
    "miun/pairtree_root/ad/x6/30/0,/00/01/,0/01/adx6300,0001,001/miun.adx6300,0001,001.json.bz2\n",
    "```"
   ]
  },
  {
   "cell_type": "markdown",
   "metadata": {},
   "source": [
    "### Advanced Features\n",
    "\n",
    "In the beta Extracted Features release, schema 2.0, a few features were separated out to an advanced files. However, *this designation is no longer present starting with schema 3.0*, meaning information like `beginLineChars`, `endLineChars`, and `capAlphaSeq` are always available:"
   ]
  },
  {
   "cell_type": "code",
   "execution_count": null,
   "metadata": {
    "collapsed": false
   },
   "outputs": [
    {
     "data": {
      "text/plain": [
       "[0, 1, 0, 0, 0, 0, 0, 0, 4, 1]"
      ]
     },
     "execution_count": 23,
     "metadata": {},
     "output_type": "execute_result"
    }
   ],
   "source": [
    "# What is the longest sequence of capital letter on each page?\n",
    "vol.cap_alpha_seqs()[:10]"
   ]
  },
  {
   "cell_type": "code",
   "execution_count": null,
   "metadata": {
    "collapsed": false,
    "scrolled": true
   },
   "outputs": [
    {
     "name": "stdout",
     "output_type": "stream",
     "text": [
      "                         count\n",
      "page section place char       \n",
      "2    body    end   -         1\n",
      "                   :         1\n",
      "                   I         1\n",
      "                   f         1\n",
      "                   t         1\n"
     ]
    }
   ],
   "source": [
    "end_line_chars = vol.end_line_chars()\n",
    "print(end_line_chars.head())"
   ]
  },
  {
   "cell_type": "code",
   "execution_count": null,
   "metadata": {
    "collapsed": false
   },
   "outputs": [
    {
     "name": "stdout",
     "output_type": "stream",
     "text": [
      "                         count\n",
      "page section place char       \n",
      "45   body    end   !         1\n",
      "75   body    end   !         1\n",
      "77   body    end   !         1\n",
      "91   body    end   !         1\n",
      "92   body    end   !         1\n"
     ]
    }
   ],
   "source": [
    "# Find pages that have lines ending with \"!\"\n",
    "idx = pd.IndexSlice\n",
    "print(end_line_chars.loc[idx[:,:,:,'!'],].head())"
   ]
  },
  {
   "cell_type": "markdown",
   "metadata": {},
   "source": [
    "### Testing\n",
    "\n",
    "This library is meant to be compatible with Python 3.2+ and Python 2.7+. Tests are written for py.test and can be run with `setup.py test`, or directly with `python -m py.test -v`.\n",
    "\n",
    "If you find a bug, leave an issue on the issue tracker, or contact Peter Organisciak at `organisciak+htrc@gmail.com`."
   ]
  }
 ],
 "metadata": {
  "kernelspec": {
   "display_name": "Python 3",
   "language": "python",
   "name": "python3"
  },
  "language_info": {
   "codemirror_mode": {
    "name": "ipython",
    "version": 3
   },
   "file_extension": ".py",
   "mimetype": "text/x-python",
   "name": "python",
   "nbconvert_exporter": "python",
   "pygments_lexer": "ipython3",
   "version": "3.6.4"
  }
 },
 "nbformat": 4,
 "nbformat_minor": 2
}
