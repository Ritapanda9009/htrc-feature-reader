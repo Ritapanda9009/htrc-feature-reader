{
 "cells": [
  {
   "cell_type": "markdown",
   "metadata": {},
   "source": [
    "### Multiprocessing\n",
    "\n",
    "For large jobs, you'll want to use multiprocessing or multithreading to speed up your process. This is left up to your preferred method, either within Python or by spawning multiple scripts from the command line. Here are two approaches that I like.\n",
    "\n",
    "#### Dask\n",
    "\n",
    "Dask offers easy multithreading (shared resources) and multiprocessing (separate processes) in Python, and is particularly convenient because it includes a subset of Pandas DataFrames.\n",
    "\n",
    "Here is a minimal example, that lazily loads token frequencies from a list of volume IDs, and counts them up by part of speech tag.\n",
    "\n",
    "```python\n",
    "import dask.dataframe as dd\n",
    "from dask import delayed\n",
    "\n",
    "def get_tokenlist(vol):\n",
    "    ''' Load a one volume feature reader, get that volume, and return its tokenlist '''\n",
    "    return FeatureReader(ids=[volid]).first().tokenlist()\n",
    "\n",
    "delayed_dfs = [delayed(get_tokenlist)(volid) for volid in volids]\n",
    "\n",
    "# Create a dask\n",
    "ddf = (dd.from_delayed(delayed_dfs)\n",
    "         .reset_index()\n",
    "         .groupby('pos')[['count']]\n",
    "         .sum()\n",
    "      )\n",
    "\n",
    "# Run processing\n",
    "ddf.compute()\n",
    "```\n",
    "\n",
    "Here is an example of 78 volumes being processed in 24 seconds with 31 threads:\n",
    "\n",
    "![Counting POS in 78 books about knitting](../data/dask-progress.png)\n",
    "\n",
    "This example used multithreading. Due to the nature of Python, certain functions won't parallelize well. In our case, the part where the JSON is read from the file and converted to a DataFrame (the light green parts of the graphic) won't speed up because Python dicts lock the Global Interpreter Lock (GIL). However, because Pandas releases the GIL, nearly everything you do after parsing the JSON will be very quick.\n",
    "\n",
    "To better understand what happens when `ddf.compute()`, here is a graph for 4 volumes:\n",
    "\n",
    "![](../data/dask-graph.png)\n",
    "\n",
    "\n",
    "#### GNU Parallel\n",
    "As an alternative to multiprocessing in Python, my preference is to have simpler Python scripts and to use GNU Parallel on the command line. To do this, you can set up your Python script to take variable length arguments of feature file paths, and to print to stdout.\n",
    "\n",
    "This psuedo-code shows how that you'd use parallel, where the number of parallel processes is 90% the number of cores, and 50 paths are sent to the script at a time (if you send too little at a time, the initialization time of the script can add up).\n",
    "\n",
    "```bash\n",
    "find feature-files/ -name '*json.bz2' | parallel --eta --jobs 90% -n 50 python your_script.py >output.txt\n",
    "```"
   ]
  }
 ],
 "metadata": {
  "kernelspec": {
   "display_name": "Python 3",
   "language": "python",
   "name": "python3"
  },
  "language_info": {
   "codemirror_mode": {
    "name": "ipython",
    "version": 3
   },
   "file_extension": ".py",
   "mimetype": "text/x-python",
   "name": "python",
   "nbconvert_exporter": "python",
   "pygments_lexer": "ipython3",
   "version": "3.7.1"
  }
 },
 "nbformat": 4,
 "nbformat_minor": 2
}
